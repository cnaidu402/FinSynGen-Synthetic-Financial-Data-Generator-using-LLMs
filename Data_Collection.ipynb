{
 "cells": [
  {
   "cell_type": "markdown",
   "id": "66af442e",
   "metadata": {},
   "source": [
    "# Data Collection"
   ]
  },
  {
   "cell_type": "markdown",
   "id": "00206388",
   "metadata": {},
   "source": [
    "## Asset Selection: \n",
    "Category\tTickers\n",
    "### Large-cap stocks\t\n",
    "    AAPL, MSFT, AMZN, JNJ, NVDA\n",
    "### Mid/small-cap\t\n",
    "    PLTR, ROKU, ETSY, UPST, SOFI\n",
    "### ETFs\t\n",
    "    QQQ, ARKK, SPY\n",
    "### Indexes\t\n",
    "    GSPC (S&P 500), IXIC (NASDAQ)"
   ]
  },
  {
   "cell_type": "markdown",
   "id": "46853c82",
   "metadata": {},
   "source": [
    "#### Time Range: 2019-01-01 to 2024-12-31"
   ]
  },
  {
   "cell_type": "code",
   "execution_count": 82,
   "id": "50548dca",
   "metadata": {},
   "outputs": [],
   "source": [
    "import yfinance as yf\n",
    "import pandas as pd\n",
    "import numpy as np"
   ]
  },
  {
   "cell_type": "code",
   "execution_count": 83,
   "id": "b79622fc",
   "metadata": {},
   "outputs": [],
   "source": [
    "tickers = {\n",
    "    \"Large-cap stocks\": [\"AAPL\", \"MSFT\", \"AMZN\", \"JNJ\", \"NVDA\"],\n",
    "    \"Mid/small-cap\": [\"PLTR\", \"ROKU\", \"ETSY\", \"UPST\", \"SOFI\"],\n",
    "    \"ETFs\": [\"QQQ\", \"ARKK\", \"SPY\"],\n",
    "    \"Indexes\": [\"^GSPC\", \"^IXIC\"]\n",
    "}"
   ]
  },
  {
   "cell_type": "code",
   "execution_count": 84,
   "id": "fe30e961",
   "metadata": {},
   "outputs": [],
   "source": [
    "all_tickers = [ticker for group in tickers.values() for ticker in group]"
   ]
  },
  {
   "cell_type": "code",
   "execution_count": 85,
   "id": "79a876b7",
   "metadata": {},
   "outputs": [
    {
     "name": "stderr",
     "output_type": "stream",
     "text": [
      "[*********************100%***********************]  15 of 15 completed\n"
     ]
    }
   ],
   "source": [
    "start_date = \"2019-01-01\"\n",
    "end_date = \"2024-12-31\"\n",
    "data = yf.download(all_tickers, start=start_date, end=end_date, group_by='ticker')"
   ]
  },
  {
   "cell_type": "markdown",
   "id": "8ef84cbb",
   "metadata": {},
   "source": [
    "### Calculating Daily Returns, Log Returns abd Volatility of Window size: 20 Days"
   ]
  },
  {
   "cell_type": "code",
   "execution_count": 86,
   "id": "78af0d7e",
   "metadata": {},
   "outputs": [],
   "source": [
    "frames = []\n",
    "for ticker in all_tickers:\n",
    "    df = data[ticker].copy()\n",
    "    df[\"Ticker\"] = ticker\n",
    "    df[\"Date\"] = df.index\n",
    "    df = df.reset_index(drop=True)\n",
    "    df.dropna(inplace = True)\n",
    "    df[\"Daily Return\"] = df[\"Close\"].pct_change()\n",
    "    df[\"Log Return\"] = np.log1p(df[\"Daily Return\"])\n",
    "    df[\"MA_20\"] = df[\"Close\"].rolling(window=20).mean()\n",
    "    df[\"Volatility_20d\"] = df[\"Daily Return\"].rolling(window=20).std()\n",
    "    frames.append(df)"
   ]
  },
  {
   "cell_type": "markdown",
   "id": "55678ae9",
   "metadata": {},
   "source": [
    "### Checking and Filling for null values "
   ]
  },
  {
   "cell_type": "code",
   "execution_count": 87,
   "id": "810479ad",
   "metadata": {},
   "outputs": [
    {
     "data": {
      "text/plain": [
       "Price\n",
       "Open               0\n",
       "High               0\n",
       "Low                0\n",
       "Close              0\n",
       "Volume             0\n",
       "Ticker             0\n",
       "Date               0\n",
       "Daily Return       1\n",
       "Log Return         1\n",
       "MA_20             19\n",
       "Volatility_20d    20\n",
       "dtype: int64"
      ]
     },
     "execution_count": 87,
     "metadata": {},
     "output_type": "execute_result"
    }
   ],
   "source": [
    "df.isnull().sum()"
   ]
  },
  {
   "cell_type": "code",
   "execution_count": 90,
   "id": "e5a3514b",
   "metadata": {},
   "outputs": [
    {
     "data": {
      "text/plain": [
       "<bound method Series.unique of 0       ^IXIC\n",
       "1       ^IXIC\n",
       "2       ^IXIC\n",
       "3       ^IXIC\n",
       "4       ^IXIC\n",
       "        ...  \n",
       "1504    ^IXIC\n",
       "1505    ^IXIC\n",
       "1506    ^IXIC\n",
       "1507    ^IXIC\n",
       "1508    ^IXIC\n",
       "Name: Ticker, Length: 1509, dtype: object>"
      ]
     },
     "execution_count": 90,
     "metadata": {},
     "output_type": "execute_result"
    }
   ],
   "source": [
    "df[\"Ticker\"].unique"
   ]
  },
  {
   "cell_type": "code",
   "execution_count": 91,
   "id": "55978151",
   "metadata": {},
   "outputs": [],
   "source": [
    "merged_df = pd.concat(frames, ignore_index=True)"
   ]
  },
  {
   "cell_type": "code",
   "execution_count": 92,
   "id": "07e62b8d",
   "metadata": {},
   "outputs": [
    {
     "data": {
      "text/plain": [
       "Price\n",
       "Open                0\n",
       "High                0\n",
       "Low                 0\n",
       "Close               0\n",
       "Volume              0\n",
       "Ticker              0\n",
       "Date                0\n",
       "Daily Return       15\n",
       "Log Return         15\n",
       "MA_20             285\n",
       "Volatility_20d    300\n",
       "dtype: int64"
      ]
     },
     "execution_count": 92,
     "metadata": {},
     "output_type": "execute_result"
    }
   ],
   "source": [
    "merged_df.isnull().sum()"
   ]
  },
  {
   "cell_type": "code",
   "execution_count": 95,
   "id": "7b0c2350",
   "metadata": {},
   "outputs": [],
   "source": [
    "merged_df['Daily Return'] = merged_df['Daily Return'].fillna(0)\n",
    "merged_df['Log Return'] = merged_df['Log Return'].fillna(0)"
   ]
  },
  {
   "cell_type": "markdown",
   "id": "20fe7321",
   "metadata": {},
   "source": [
    "#### I a leaving the null values in Violatility because llm needs to understand the there will be null values for starting 20 days for each stock."
   ]
  },
  {
   "cell_type": "code",
   "execution_count": 96,
   "id": "d7d7245c",
   "metadata": {},
   "outputs": [
    {
     "data": {
      "text/plain": [
       "Price\n",
       "Open                0\n",
       "High                0\n",
       "Low                 0\n",
       "Close               0\n",
       "Volume              0\n",
       "Ticker              0\n",
       "Date                0\n",
       "Daily Return        0\n",
       "Log Return          0\n",
       "MA_20             285\n",
       "Volatility_20d    300\n",
       "dtype: int64"
      ]
     },
     "execution_count": 96,
     "metadata": {},
     "output_type": "execute_result"
    }
   ],
   "source": [
    "merged_df.isnull().sum()"
   ]
  },
  {
   "cell_type": "markdown",
   "id": "1b915ca0",
   "metadata": {},
   "source": [
    "Saving as CSV "
   ]
  },
  {
   "cell_type": "code",
   "execution_count": 98,
   "id": "2b3b8fae",
   "metadata": {},
   "outputs": [],
   "source": [
    "merged_df.to_csv(\"C:/Users/cnaid/Downloads/merged_asset_data.csv\", index=False)"
   ]
  },
  {
   "cell_type": "markdown",
   "id": "5feae672",
   "metadata": {},
   "source": [
    "### Metadata for better prompt results"
   ]
  },
  {
   "cell_type": "code",
   "execution_count": 101,
   "id": "f104f678",
   "metadata": {},
   "outputs": [],
   "source": [
    "metadata = pd.DataFrame([\n",
    "    [\"AAPL\", \"Tech\", \"Large Cap\", \"Stock\", \"Medium\"],\n",
    "    [\"MSFT\", \"Tech\", \"Large Cap\", \"Stock\", \"Medium\"],\n",
    "    [\"AMZN\", \"Consumer\", \"Large Cap\", \"Stock\", \"Medium\"],\n",
    "    [\"JNJ\", \"Healthcare\", \"Large Cap\", \"Stock\", \"Low\"],\n",
    "    [\"NVDA\", \"Tech\", \"Large Cap\", \"Stock\", \"High\"],\n",
    "    [\"PLTR\", \"Tech\", \"Mid Cap\", \"Stock\", \"High\"],\n",
    "    [\"ROKU\", \"Consumer\", \"Mid Cap\", \"Stock\", \"High\"],\n",
    "    [\"ETSY\", \"Retail\", \"Mid Cap\", \"Stock\", \"High\"],\n",
    "    [\"UPST\", \"Finance\", \"Small Cap\", \"Stock\", \"High\"],\n",
    "    [\"SOFI\", \"Finance\", \"Small Cap\", \"Stock\", \"High\"],\n",
    "    [\"QQQ\", \"Mixed\", \"-\", \"ETF\", \"Medium\"],\n",
    "    [\"ARKK\", \"Mixed\", \"-\", \"ETF\", \"High\"],\n",
    "    [\"SPY\", \"Mixed\", \"-\", \"ETF\", \"Low\"],\n",
    "    [\"^GSPC\", \"Index\", \"-\", \"Index\", \"Low\"],\n",
    "    [\"^IXIC\", \"Index\", \"-\", \"Index\", \"Medium\"]\n",
    "], columns=[\"Ticker\", \"Sector\", \"Market Cap\", \"Type\", \"Risk Class\"])\n",
    "\n",
    "metadata.to_csv(\"C:/Users/cnaid/Downloads/asset_metadata.csv\", index=False)\n"
   ]
  }
 ],
 "metadata": {
  "kernelspec": {
   "display_name": "base",
   "language": "python",
   "name": "python3"
  },
  "language_info": {
   "codemirror_mode": {
    "name": "ipython",
    "version": 3
   },
   "file_extension": ".py",
   "mimetype": "text/x-python",
   "name": "python",
   "nbconvert_exporter": "python",
   "pygments_lexer": "ipython3",
   "version": "3.12.7"
  }
 },
 "nbformat": 4,
 "nbformat_minor": 5
}
